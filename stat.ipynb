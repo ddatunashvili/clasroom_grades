{
 "cells": [
  {
   "cell_type": "code",
   "execution_count": 26,
   "metadata": {},
   "outputs": [],
   "source": [
    "import pandas as pd\n",
    "\n",
    "with open(\"scores.txt\",\"r\") as f:\n",
    "    file = f.readlines()\n",
    "    file = [i.replace(\"\\n\",\"\").split(\": \") for i in file]\n",
    "\n",
    "en = \"abcdefghijklmnopqrstuvwxyz\"\n",
    "ge = \"აბცდეფგჰიჯკლმნოპქრსტუვწხყზ\"\n",
    "alph = dict(zip(en,ge))\n",
    "alph[\"ცჰ\"] = \"ჩ\"\n",
    "alph[\"კრ\"] = \"ქრ\"\n",
    "alph[\"სჰ\"] = \"შ\"\n",
    "alph[\"კჰ\"] = \"ხ\"\n",
    "alph[\"დზ\"] = \"ძ\"\n",
    "alph[\"პხ\"] = \"ფხ\"\n",
    "alph[\"ტს\"] = \"ც\"\n",
    "\n",
    "\n",
    "\n",
    "\n",
    "names = [(i[0].split()[1]+\" \"+i[0].split()[0]).lower() for i in file]\n",
    "\n",
    "for en,ge in alph.items():\n",
    "    names = [ i.replace(en,ge) for i in names]\n",
    "\n",
    "\n",
    "quiz_scores = [int(i[1].split(\"-\")[1]) for i in file]\n",
    "lab_scores = [int(i[1].split(\"-\")[0]) for i in file]\n",
    "mid_1 = [int(i[1].split(\"-\")[2]) for i in file]\n",
    "mid_2 = [int(i[1].split(\"-\")[3]) for i in file]\n",
    "final = [int(i[1].split(\"-\")[4]) for i in file]\n",
    "\n",
    "df = pd.DataFrame(names, columns = ['სახელი'])\n",
    "df[\"ლაბის ქულა\"] = lab_scores\n",
    "df[\"ქვიზის ქულა\"] = quiz_scores\n",
    "df[\"შუალედური 1\"] = mid_1\n",
    "df[\"შუალედური 2\"] = mid_2\n",
    "df[\"ფინალური\"] = final\n",
    "\n",
    "df[\"ჯამური ქულა\"] = df[\"ლაბის ქულა\"] + df[\"ქვიზის ქულა\"] + df[\"შუალედური 1\"]+ df[\"შუალედური 2\"]+ df[\"ფინალური\"]\n",
    "df1 = df[[\"სახელი\",\"ჯამური ქულა\"]].sort_values(\"ჯამური ქულა\", ascending=False).reset_index(drop=True)\n",
    "df2 = df.sort_values(\"სახელი\").reset_index(drop=True)\n",
    "\n",
    "df1.to_excel(\"leaderboard.xlsx\")\n",
    "df2.to_excel(\"result.xlsx\")\n",
    "\n"
   ]
  }
 ],
 "metadata": {
  "kernelspec": {
   "display_name": "base",
   "language": "python",
   "name": "python3"
  },
  "language_info": {
   "codemirror_mode": {
    "name": "ipython",
    "version": 3
   },
   "file_extension": ".py",
   "mimetype": "text/x-python",
   "name": "python",
   "nbconvert_exporter": "python",
   "pygments_lexer": "ipython3",
   "version": "3.9.13"
  },
  "orig_nbformat": 4,
  "vscode": {
   "interpreter": {
    "hash": "610a6f344c2137faf927ea819c63f6cee33a2c04455044b28099f39fe9722347"
   }
  }
 },
 "nbformat": 4,
 "nbformat_minor": 2
}
